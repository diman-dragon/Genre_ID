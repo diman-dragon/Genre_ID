{
 "cells": [
  {
   "cell_type": "code",
   "execution_count": 1,
   "metadata": {},
   "outputs": [],
   "source": [
    "from fastai.vision.all import *\n",
    "from sklearn.metrics import accuracy_score\n",
    "from sklearn.model_selection import train_test_split\n",
    "from fastai.callback.tracker import SaveModelCallback, EarlyStoppingCallback\n",
    "from fastai.interpret import ClassificationInterpretation\n",
    "import matplotlib.pyplot as plt\n"
   ]
  },
  {
   "cell_type": "code",
   "execution_count": 2,
   "metadata": {},
   "outputs": [],
   "source": [
    "# Пути к файлам CSV\n",
    "train_csv_path = \"train_data.csv\"\n",
    "test_csv_path = \"test_data.csv\"\n",
    "\n",
    "# Загрузка данных\n",
    "train_data = pd.read_csv(train_csv_path)\n",
    "test_data = pd.read_csv(test_csv_path)\n",
    "\n",
    "# Путь к папке с изображениями\n",
    "path = Path('')"
   ]
  },
  {
   "cell_type": "code",
   "execution_count": 3,
   "metadata": {},
   "outputs": [
    {
     "name": "stdout",
     "output_type": "stream",
     "text": [
      "Длина обучающего набора данных: 6194\n",
      "Длина тестового набора данных: 1554\n"
     ]
    }
   ],
   "source": [
    "print(\"Длина обучающего набора данных:\", len(train_data))\n",
    "print(\"Длина тестового набора данных:\", len(test_data))"
   ]
  },
  {
   "cell_type": "code",
   "execution_count": 4,
   "metadata": {},
   "outputs": [],
   "source": [
    "# Создание DataBlock\n",
    "dblock = DataBlock(blocks=(ImageBlock, CategoryBlock),\n",
    "                   get_x=ColReader('image_path', pref=path),\n",
    "                   get_y=ColReader('label'),\n",
    "                   splitter=RandomSplitter())"
   ]
  },
  {
   "cell_type": "code",
   "execution_count": 5,
   "metadata": {},
   "outputs": [],
   "source": [
    "# Создание DataLoaders\n",
    "dls = dblock.dataloaders(train_data, bs=64)"
   ]
  },
  {
   "cell_type": "code",
   "execution_count": 6,
   "metadata": {},
   "outputs": [
    {
     "name": "stderr",
     "output_type": "stream",
     "text": [
      "C:\\Users\\14488\\AppData\\Local\\Packages\\PythonSoftwareFoundation.Python.3.12_qbz5n2kfra8p0\\LocalCache\\local-packages\\Python312\\site-packages\\fastai\\vision\\learner.py:301: UserWarning: `cnn_learner` has been renamed to `vision_learner` -- please update your code\n",
      "  warn(\"`cnn_learner` has been renamed to `vision_learner` -- please update your code\")\n"
     ]
    }
   ],
   "source": [
    "# Создание модели\n",
    "learn = cnn_learner(dls, resnet34, metrics=accuracy)"
   ]
  },
  {
   "cell_type": "markdown",
   "metadata": {},
   "source": [
    "Обучение модели с помощью метода fine_tune"
   ]
  },
  {
   "cell_type": "code",
   "execution_count": 7,
   "metadata": {},
   "outputs": [
    {
     "data": {
      "text/html": [
       "\n",
       "<style>\n",
       "    /* Turns off some styling */\n",
       "    progress {\n",
       "        /* gets rid of default border in Firefox and Opera. */\n",
       "        border: none;\n",
       "        /* Needs to be in here for Safari polyfill so background images work as expected. */\n",
       "        background-size: auto;\n",
       "    }\n",
       "    progress:not([value]), progress:not([value])::-webkit-progress-bar {\n",
       "        background: repeating-linear-gradient(45deg, #7e7e7e, #7e7e7e 10px, #5c5c5c 10px, #5c5c5c 20px);\n",
       "    }\n",
       "    .progress-bar-interrupted, .progress-bar-interrupted::-webkit-progress-bar {\n",
       "        background: #F44336;\n",
       "    }\n",
       "</style>\n"
      ],
      "text/plain": [
       "<IPython.core.display.HTML object>"
      ]
     },
     "metadata": {},
     "output_type": "display_data"
    },
    {
     "data": {
      "text/html": [
       "<table border=\"1\" class=\"dataframe\">\n",
       "  <thead>\n",
       "    <tr style=\"text-align: left;\">\n",
       "      <th>epoch</th>\n",
       "      <th>train_loss</th>\n",
       "      <th>valid_loss</th>\n",
       "      <th>time</th>\n",
       "    </tr>\n",
       "  </thead>\n",
       "  <tbody>\n",
       "    <tr>\n",
       "      <td>0</td>\n",
       "      <td>2.317620</td>\n",
       "      <td>1.465326</td>\n",
       "      <td>12:39</td>\n",
       "    </tr>\n",
       "    <tr>\n",
       "      <td>1</td>\n",
       "      <td>1.610597</td>\n",
       "      <td>1.345714</td>\n",
       "      <td>12:55</td>\n",
       "    </tr>\n",
       "  </tbody>\n",
       "</table>"
      ],
      "text/plain": [
       "<IPython.core.display.HTML object>"
      ]
     },
     "metadata": {},
     "output_type": "display_data"
    },
    {
     "name": "stdout",
     "output_type": "stream",
     "text": [
      "Better model found at epoch 0 with valid_loss value: 1.465325951576233.\n",
      "Better model found at epoch 1 with valid_loss value: 1.34571373462677.\n"
     ]
    }
   ],
   "source": [
    "# Определение пути для сохранения модели\n",
    "model_save_path = \"fine_tune\"\n",
    "\n",
    "# Определение коллбэка EarlyStopping\n",
    "early_stopping_cb = EarlyStoppingCallback(monitor='valid_loss', min_delta=0.01, patience=3)\n",
    "\n",
    "# Определение коллбэка SaveModel\n",
    "save_model_cb = SaveModelCallback(monitor='valid_loss', fname='best_model')\n",
    "\n",
    "# Создание объекта Learner и передача коллбэков EarlyStoppingCallback и SaveModelCallback\n",
    "learn = Learner(dls, learn.model, loss_func=learn.loss_func, cbs=[early_stopping_cb, save_model_cb])\n",
    "\n",
    "# Вызов метода fit для модели с добавлением всех коллбэков\n",
    "learn.fit_one_cycle(n_epoch=2, cbs=[early_stopping_cb, save_model_cb])  \n"
   ]
  },
  {
   "cell_type": "code",
   "execution_count": 8,
   "metadata": {},
   "outputs": [],
   "source": [
    "# Сохранение модели\n",
    "learn.export(fname=model_save_path)"
   ]
  },
  {
   "cell_type": "code",
   "execution_count": 9,
   "metadata": {},
   "outputs": [
    {
     "data": {
      "image/png": "[encoded data removed]",
      "text/plain": [
       "<Figure size 640x480 with 1 Axes>"
      ]
     },
     "metadata": {},
     "output_type": "display_data"
    }
   ],
   "source": [
    "# График потерь (Loss Plot): Это график, показывающий изменение потерь (loss) на обучающем \n",
    "# и валидационном наборах данных в течение эпох обучения. \n",
    "# Можно использовать метод Recorder.plot_loss() для визуализации этого графика.\n",
    "\n",
    "learn.recorder.plot_loss()"
   ]
  },
  {
   "cell_type": "code",
   "execution_count": 12,
   "metadata": {},
   "outputs": [],
   "source": [
    "# Матрица ошибок (Confusion Matrix): Матрица ошибок позволяет визуализировать,\n",
    "# какие классы модель чаще всего путает между собой. \n",
    "# Для построения матрицы ошибок можно использовать класс ClassificationInterpretation.\n",
    "\n",
    "# Создание интерпретации модели\n",
    "interp = ClassificationInterpretation.from_learner(learn)"
   ]
  },
  {
   "cell_type": "code",
   "execution_count": 11,
   "metadata": {},
   "outputs": [
    {
     "ename": "NameError",
     "evalue": "name 'interp' is not defined",
     "output_type": "error",
     "traceback": [
      "\u001b[1;31m---------------------------------------------------------------------------\u001b[0m",
      "\u001b[1;31mNameError\u001b[0m                                 Traceback (most recent call last)",
      "Cell \u001b[1;32mIn[11], line 2\u001b[0m\n\u001b[0;32m      1\u001b[0m \u001b[38;5;66;03m# Построение матрицы ошибок\u001b[39;00m\n\u001b[1;32m----> 2\u001b[0m \u001b[43minterp\u001b[49m\u001b[38;5;241m.\u001b[39mplot_confusion_matrix()\n",
      "\u001b[1;31mNameError\u001b[0m: name 'interp' is not defined"
     ]
    }
   ],
   "source": [
    "# Построение матрицы ошибок\n",
    "interp.plot_confusion_matrix()"
   ]
  },
  {
   "cell_type": "code",
   "execution_count": null,
   "metadata": {},
   "outputs": [],
   "source": [
    "# Визуализация предсказаний (Prediction Visualization): \n",
    "# Можно визуализировать предсказания модели на тестовом наборе данных, \n",
    "# например, с помощью графиков с предсказанными и фактическими метками.\n",
    "\n",
    "interp.plot_top_losses(k=4)  # Показать примеры наиболее ошибочных предсказаний"
   ]
  },
  {
   "cell_type": "code",
   "execution_count": null,
   "metadata": {},
   "outputs": [],
   "source": [
    "# Визуализация результатов на изображениях:\n",
    "# Можно также визуализировать результаты модели на конкретных изображениях, \n",
    "# например, показать исходное изображение с предсказанной меткой.\n",
    "\n",
    "interp.plot_top_losses(k=1, largest=True)  # Показать пример наиболее ошибочного предсказания"
   ]
  },
  {
   "cell_type": "code",
   "execution_count": null,
   "metadata": {},
   "outputs": [],
   "source": [
    "# Получение прогнозов (предсказаний) модели на тестовых данных\n",
    "predictions = learn.get_preds(dl=test_data)\n",
    "\n",
    "# Предсказания модели являются вторым элементом кортежа predictions\n",
    "predicted_labels = predictions[0].argmax(dim=1) # Получение индекса класса с наибольшей вероятностью\n",
    "\n",
    "true_labels = test_data['label'] \n",
    "\n",
    "accuracy_fine_tune = accuracy_score(true_labels, predicted_labels)\n",
    "\n",
    "print(\"Accuracy on test data fine_tune:\", accuracy_fine_tune)"
   ]
  },
  {
   "cell_type": "markdown",
   "metadata": {},
   "source": [
    "Обучение модели с помощью метода fit_one_cycle"
   ]
  },
  {
   "cell_type": "code",
   "execution_count": null,
   "metadata": {},
   "outputs": [],
   "source": [
    "# Определение пути для сохранения модели\n",
    "model_save_path = \"fit_one_cycle\"\n",
    "\n",
    "# Определение коллбэка EarlyStopping\n",
    "early_stopping_cb = EarlyStoppingCallback(monitor='valid_loss', min_delta=0.01, patience=3)\n",
    "\n",
    "# Определение коллбэка SaveModel\n",
    "save_model_cb = SaveModelCallback(monitor='valid_loss', fname='best_model')\n",
    "\n",
    "# Создание объекта Learner и передача коллбэков EarlyStoppingCallback и SaveModelCallback\n",
    "learn = Learner(dls, learn.model, loss_func=learn.loss_func, cbs=[early_stopping_cb, save_model_cb])\n",
    "\n",
    "# Вызов метода fit для модели с добавлением всех коллбэков\n",
    "learn.fit_one_cycle(n_epoch=2, cbs=[metrics_callback, early_stopping_cb, save_model_cb])  "
   ]
  },
  {
   "cell_type": "code",
   "execution_count": null,
   "metadata": {},
   "outputs": [],
   "source": [
    "# Сохранение модели\n",
    "learn.export(fname=model_save_path)"
   ]
  },
  {
   "cell_type": "code",
   "execution_count": null,
   "metadata": {},
   "outputs": [],
   "source": [
    "# График потерь (Loss Plot): Это график, показывающий изменение потерь (loss) на обучающем \n",
    "# и валидационном наборах данных в течение эпох обучения. \n",
    "# Можно использовать метод Recorder.plot_loss() для визуализации этого графика.\n",
    "\n",
    "learn.recorder.plot_loss()"
   ]
  },
  {
   "cell_type": "code",
   "execution_count": null,
   "metadata": {},
   "outputs": [],
   "source": [
    "# Матрица ошибок (Confusion Matrix): Матрица ошибок позволяет визуализировать,\n",
    "# какие классы модель чаще всего путает между собой. \n",
    "# Для построения матрицы ошибок можно использовать класс ClassificationInterpretation.\n",
    "\n",
    "interp = ClassificationInterpretation.from_learner(learn)\n",
    "interp.plot_confusion_matrix()\n"
   ]
  },
  {
   "cell_type": "code",
   "execution_count": null,
   "metadata": {},
   "outputs": [],
   "source": [
    "# Визуализация предсказаний (Prediction Visualization): \n",
    "# Можно визуализировать предсказания модели на тестовом наборе данных, \n",
    "# например, с помощью графиков с предсказанными и фактическими метками.\n",
    "\n",
    "interp.plot_top_losses(k=4)  # Показать примеры наиболее ошибочных предсказаний\n"
   ]
  },
  {
   "cell_type": "code",
   "execution_count": null,
   "metadata": {},
   "outputs": [],
   "source": [
    "# Визуализация результатов на изображениях:\n",
    "# Можно также визуализировать результаты модели на конкретных изображениях, \n",
    "# например, показать исходное изображение с предсказанной меткой.\n",
    "\n",
    "interp.plot_top_losses(k=1, largest=True)  # Показать пример наиболее ошибочного предсказания"
   ]
  },
  {
   "cell_type": "code",
   "execution_count": null,
   "metadata": {},
   "outputs": [],
   "source": [
    "# Получение прогнозов (предсказаний) модели на тестовых данных\n",
    "predictions = learn.get_preds(dl=test_data)\n",
    "\n",
    "# Предсказания модели являются вторым элементом кортежа predictions\n",
    "predicted_labels = predictions[0].argmax(dim=1) # Получение индекса класса с наибольшей вероятностью\n",
    "\n",
    "true_labels = test_data['label'] \n",
    "\n",
    "accuracy_fit_one_cycle = accuracy_score(true_labels, predicted_labels)\n",
    "\n",
    "print(\"Accuracy on test data fine_tune:\", accuracy_fit_one_cycle)"
   ]
  }
 ],
 "metadata": {
  "kernelspec": {
   "display_name": "Python 3",
   "language": "python",
   "name": "python3"
  },
  "language_info": {
   "codemirror_mode": {
    "name": "ipython",
    "version": 3
   },
   "file_extension": ".py",
   "mimetype": "text/x-python",
   "name": "python",
   "nbconvert_exporter": "python",
   "pygments_lexer": "ipython3",
   "version": "3.12.3"
  }
 },
 "nbformat": 4,
 "nbformat_minor": 2
}
