{
 "cells": [
  {
   "cell_type": "markdown",
   "metadata": {},
   "source": [
    "Загрузка и обработка файлов"
   ]
  },
  {
   "cell_type": "code",
   "execution_count": 6,
   "metadata": {},
   "outputs": [],
   "source": [
    "import os\n",
    "import pandas as pd\n",
    "import numpy as np\n",
    "from PIL import Image\n",
    "import matplotlib.pyplot as plt\n",
    "from sklearn.model_selection import train_test_split\n",
    "import cv2\n",
    "\n",
    "from sklearn.neighbors import KNeighborsClassifier\n",
    "from sklearn.pipeline import make_pipeline\n",
    "from sklearn.preprocessing import StandardScaler\n",
    "from sklearn.metrics import accuracy_score\n"
   ]
  },
  {
   "cell_type": "code",
   "execution_count": 3,
   "metadata": {},
   "outputs": [
    {
     "name": "stdout",
     "output_type": "stream",
     "text": [
      "Размер обучающей выборки: 4955\n",
      "Размер валидационной выборки: 1239\n",
      "Размер тестовой выборки: 1554\n"
     ]
    }
   ],
   "source": [
    "# Загружаем данные из файлов CSV\n",
    "train_data = pd.read_csv(\"train_data.csv\")\n",
    "test_data = pd.read_csv(\"test_data.csv\")\n",
    "\n",
    "# Разделяем данные на признаки (X) и метки (y)\n",
    "X_train = train_data['image_path'].values\n",
    "y_train = train_data['label'].values\n",
    "X_test = test_data['image_path'].values\n",
    "y_test = test_data['label'].values\n",
    "\n",
    "# Разделяем данные на обучающую и тестовую выборки\n",
    "# Можно использовать те же доли, что и при исходном разделении данных\n",
    "X_train, X_val, y_train, y_val = train_test_split(X_train, y_train, test_size=0.2, random_state=42)\n",
    "\n",
    "# Выводим размеры обучающей, валидационной и тестовой выборок\n",
    "print(\"Размер обучающей выборки:\", len(X_train))\n",
    "print(\"Размер валидационной выборки:\", len(X_val))\n",
    "print(\"Размер тестовой выборки:\", len(X_test))\n"
   ]
  },
  {
   "cell_type": "code",
   "execution_count": 7,
   "metadata": {},
   "outputs": [
    {
     "ename": "NameError",
     "evalue": "name 'train_image_paths' is not defined",
     "output_type": "error",
     "traceback": [
      "\u001b[1;31m---------------------------------------------------------------------------\u001b[0m",
      "\u001b[1;31mNameError\u001b[0m                                 Traceback (most recent call last)",
      "Cell \u001b[1;32mIn[7], line 18\u001b[0m\n\u001b[0;32m     15\u001b[0m     \u001b[38;5;28;01mreturn\u001b[39;00m hist\u001b[38;5;241m.\u001b[39mflatten()  \u001b[38;5;66;03m# Преобразуем гистограмму в одномерный массив признаков\u001b[39;00m\n\u001b[0;32m     17\u001b[0m \u001b[38;5;66;03m# Извлечение признаков изображений обучающей и тестовой выборок\u001b[39;00m\n\u001b[1;32m---> 18\u001b[0m X_train \u001b[38;5;241m=\u001b[39m load_images_and_extract_features(\u001b[43mtrain_image_paths\u001b[49m)\n\u001b[0;32m     19\u001b[0m X_test \u001b[38;5;241m=\u001b[39m load_images_and_extract_features(test_image_paths)\n\u001b[0;32m     21\u001b[0m \u001b[38;5;66;03m# Создание и обучение модели kNN\u001b[39;00m\n",
      "\u001b[1;31mNameError\u001b[0m: name 'train_image_paths' is not defined"
     ]
    }
   ],
   "source": [
    "# Функция для загрузки изображений и извлечения признаков\n",
    "def load_images_and_extract_features(paths):\n",
    "    features = []\n",
    "    for path in paths:\n",
    "        # Загружаем изображение\n",
    "        image = cv2.imread(path)\n",
    "        # Преобразуем изображение в признаки (например, с помощью цветовых гистограмм)\n",
    "        features.append(extract_features_from_image(image))  # Здесь extract_features_from_image должна быть ваша функция для извлечения признаков\n",
    "    return features\n",
    "\n",
    "# Извлечение признаков из изображения\n",
    "def extract_features_from_image(image):\n",
    "    # Пример: преобразование изображения в цветовую гистограмму\n",
    "    hist = cv2.calcHist([image], [0, 1, 2], None, [256, 256, 256], [0, 256, 0, 256, 0, 256])\n",
    "    return hist.flatten()  # Преобразуем гистограмму в одномерный массив признаков\n",
    "\n",
    "# Извлечение признаков изображений обучающей и тестовой выборок\n",
    "X_train = load_images_and_extract_features(train_image_paths)\n",
    "X_test = load_images_and_extract_features(test_image_paths)\n",
    "\n",
    "# Создание и обучение модели kNN\n",
    "model = KNeighborsClassifier(n_neighbors=3)\n",
    "model.fit(X_train, y_train)\n",
    "\n",
    "# Получение прогнозов модели на обучающей и тестовой выборках\n",
    "train_predictions = model.predict(X_train)\n",
    "test_predictions = model.predict(X_test)\n",
    "\n",
    "# Оценка точности модели\n",
    "train_accuracy = accuracy_score(y_train, train_predictions)\n",
    "test_accuracy = accuracy_score(y_test, test_predictions)\n",
    "\n",
    "# Вывод точности модели на обучающей и тестовой выборках\n",
    "print(\"Точность модели на обучающей выборке:\", train_accuracy)\n",
    "print(\"Точность модели на тестовой выборке:\", test_accuracy)\n"
   ]
  }
 ],
 "metadata": {
  "kernelspec": {
   "display_name": "Python 3",
   "language": "python",
   "name": "python3"
  },
  "language_info": {
   "codemirror_mode": {
    "name": "ipython",
    "version": 3
   },
   "file_extension": ".py",
   "mimetype": "text/x-python",
   "name": "python",
   "nbconvert_exporter": "python",
   "pygments_lexer": "ipython3",
   "version": "3.12.3"
  }
 },
 "nbformat": 4,
 "nbformat_minor": 2
}
